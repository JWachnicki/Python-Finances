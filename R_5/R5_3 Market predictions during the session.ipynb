{
 "cells": [
  {
   "cell_type": "code",
   "execution_count": 12,
   "id": "7245b258",
   "metadata": {},
   "outputs": [],
   "source": [
    "import numpy as np\n",
    "import pandas as pd\n",
    "from pylab import plt, mpl \n",
    "plt.style.use('seaborn') \n",
    "mpl.rcParams['savefig.dpi'] = 300 \n",
    "mpl.rcParams['font.family'] = 'serif' \n",
    "pd.set_option(\"display.precision\", 4) \n",
    "np.set_printoptions(suppress=True, precision=4)"
   ]
  },
  {
   "cell_type": "code",
   "execution_count": 13,
   "id": "9e755c01",
   "metadata": {},
   "outputs": [],
   "source": [
    "url = 'http://hilpisch.com/aiif_eikon_id_data.csv'"
   ]
  },
  {
   "cell_type": "code",
   "execution_count": 14,
   "id": "6750694a",
   "metadata": {},
   "outputs": [],
   "source": [
    "data = pd.read_csv(url, index_col=0, parse_dates=True)"
   ]
  },
  {
   "cell_type": "code",
   "execution_count": 15,
   "id": "691386e2",
   "metadata": {},
   "outputs": [
    {
     "name": "stdout",
     "output_type": "stream",
     "text": [
      "<class 'pandas.core.frame.DataFrame'>\n",
      "DatetimeIndex: 5529 entries, 2019-03-01 00:00:00 to 2020-01-01 00:00:00\n",
      "Data columns (total 12 columns):\n",
      " #   Column  Non-Null Count  Dtype  \n",
      "---  ------  --------------  -----  \n",
      " 0   AAPL.O  3384 non-null   float64\n",
      " 1   MSFT.O  3378 non-null   float64\n",
      " 2   INTC.O  3275 non-null   float64\n",
      " 3   AMZN.O  3381 non-null   float64\n",
      " 4   GS.N    1686 non-null   float64\n",
      " 5   SPY     3388 non-null   float64\n",
      " 6   .SPX    1802 non-null   float64\n",
      " 7   .VIX    2959 non-null   float64\n",
      " 8   EUR=    5429 non-null   float64\n",
      " 9   XAU=    5149 non-null   float64\n",
      " 10  GDX     3173 non-null   float64\n",
      " 11  GLD     3351 non-null   float64\n",
      "dtypes: float64(12)\n",
      "memory usage: 561.5 KB\n"
     ]
    }
   ],
   "source": [
    "data.info()"
   ]
  },
  {
   "cell_type": "code",
   "execution_count": 23,
   "id": "5c26efd5",
   "metadata": {},
   "outputs": [],
   "source": [
    "def train_test_model(model): \n",
    "    for ric in data: \n",
    "        df, cols = dfs[ric] \n",
    "        split = int(len(df) * 0.85) \n",
    "        train = df.iloc[:split].copy() \n",
    "        mu, std = train[cols].mean(), train[cols].std() \n",
    "        train[cols] = (train[cols] - mu) / std \n",
    "        model.fit(train[cols].values, train['d']) \n",
    "        test = df.iloc[split:].copy() \n",
    "        test[cols] = (test[cols] - mu) / std \n",
    "        pred = model.predict(test[cols].values) \n",
    "        acc = accuracy_score(test['d'], pred) \n",
    "        print(f'SPOZA PRÓBKI | {ric:7s} | acc={acc:.4f}') "
   ]
  },
  {
   "cell_type": "code",
   "execution_count": 24,
   "id": "20bdff8a",
   "metadata": {},
   "outputs": [],
   "source": [
    "def add_lags(data, ric, lags, window=50): \n",
    "    cols = [] \n",
    "    df = pd.DataFrame(data[ric]) \n",
    "    df.dropna(inplace=True) \n",
    "    df['r'] = np.log(df / df.shift()) \n",
    "    df['sma'] = df[ric].rolling(window).mean() \n",
    "    df['min'] = df[ric].rolling(window).min() \n",
    "    df['max'] = df[ric].rolling(window).max() \n",
    "    df['mom'] = df['r'].rolling(window).mean() \n",
    "    df['vol'] = df['r'].rolling(window).std() \n",
    "    df.dropna(inplace=True) \n",
    "    df['d'] = np.where(df['r'] > 0, 1, 0) \n",
    "    features = [ric, 'r', 'd', 'sma', 'min', 'max', 'mom', 'vol'] \n",
    "    for f in features: \n",
    "        for lag in range(1, lags + 1): \n",
    "            col = f'{f}_lag_{lag}' \n",
    "            df[col] = df[f].shift(lag) \n",
    "            cols.append(col) \n",
    "    df.dropna(inplace=True) \n",
    "    return df, cols"
   ]
  },
  {
   "cell_type": "code",
   "execution_count": 25,
   "id": "57c7e1cf",
   "metadata": {},
   "outputs": [],
   "source": [
    "lags = 5"
   ]
  },
  {
   "cell_type": "code",
   "execution_count": 26,
   "id": "cb239db1",
   "metadata": {},
   "outputs": [],
   "source": [
    "dfs = {}\n",
    "for ric in data:\n",
    "    df, cols = add_lags(data, ric, lags)\n",
    "    dfs[ric] = df, cols"
   ]
  },
  {
   "cell_type": "code",
   "execution_count": 31,
   "id": "ebd98c2e",
   "metadata": {},
   "outputs": [],
   "source": [
    "from sklearn.neural_network import MLPClassifier\n",
    "from sklearn.metrics import accuracy_score\n",
    "from sklearn.ensemble import BaggingClassifier"
   ]
  },
  {
   "cell_type": "code",
   "execution_count": 32,
   "id": "bff98b2e",
   "metadata": {},
   "outputs": [],
   "source": [
    "model_mlp = MLPClassifier(hidden_layer_sizes=[512], random_state=100, \n",
    "                            max_iter=1000, early_stopping=True, \n",
    "                            validation_fraction=0.15, shuffle=False) "
   ]
  },
  {
   "cell_type": "code",
   "execution_count": 33,
   "id": "dbb7f90a",
   "metadata": {},
   "outputs": [
    {
     "name": "stdout",
     "output_type": "stream",
     "text": [
      "CPU times: total: 0 ns\n",
      "Wall time: 0 ns\n",
      "SPOZA PRÓBKI | AAPL.O  | acc=0.5420\n",
      "SPOZA PRÓBKI | MSFT.O  | acc=0.4930\n",
      "SPOZA PRÓBKI | INTC.O  | acc=0.5549\n",
      "SPOZA PRÓBKI | AMZN.O  | acc=0.4709\n",
      "SPOZA PRÓBKI | GS.N    | acc=0.5184\n",
      "SPOZA PRÓBKI | SPY     | acc=0.4860\n",
      "SPOZA PRÓBKI | .SPX    | acc=0.5019\n",
      "SPOZA PRÓBKI | .VIX    | acc=0.4885\n",
      "SPOZA PRÓBKI | EUR=    | acc=0.5130\n",
      "SPOZA PRÓBKI | XAU=    | acc=0.4824\n",
      "SPOZA PRÓBKI | GDX     | acc=0.4765\n",
      "SPOZA PRÓBKI | GLD     | acc=0.5455\n"
     ]
    }
   ],
   "source": [
    "%time \n",
    "train_test_model(model_mlp)"
   ]
  },
  {
   "cell_type": "code",
   "execution_count": 35,
   "id": "0fa20f0c",
   "metadata": {},
   "outputs": [],
   "source": [
    "base_estimator = MLPClassifier(hidden_layer_sizes=[256], random_state=100, \n",
    "                                 max_iter=1000, early_stopping=True, \n",
    "                                 validation_fraction=0.15, shuffle=False)"
   ]
  },
  {
   "cell_type": "code",
   "execution_count": 36,
   "id": "d5a524b5",
   "metadata": {},
   "outputs": [],
   "source": [
    "model_bag = BaggingClassifier(base_estimator=base_estimator, n_estimators=35, \n",
    "                                 max_samples=0.25, max_features=0.5, \n",
    "                                 bootstrap=False, bootstrap_features=True, \n",
    "                                 n_jobs=6, random_state=100)"
   ]
  },
  {
   "cell_type": "code",
   "execution_count": 37,
   "id": "dc67d381",
   "metadata": {},
   "outputs": [
    {
     "name": "stdout",
     "output_type": "stream",
     "text": [
      "CPU times: total: 0 ns\n",
      "Wall time: 0 ns\n",
      "SPOZA PRÓBKI | AAPL.O  | acc=0.5660\n",
      "SPOZA PRÓBKI | MSFT.O  | acc=0.5551\n",
      "SPOZA PRÓBKI | INTC.O  | acc=0.5072\n",
      "SPOZA PRÓBKI | AMZN.O  | acc=0.4830\n",
      "SPOZA PRÓBKI | GS.N    | acc=0.5020\n",
      "SPOZA PRÓBKI | SPY     | acc=0.4680\n",
      "SPOZA PRÓBKI | .SPX    | acc=0.4677\n",
      "SPOZA PRÓBKI | .VIX    | acc=0.5161\n",
      "SPOZA PRÓBKI | EUR=    | acc=0.5242\n",
      "SPOZA PRÓBKI | XAU=    | acc=0.5229\n",
      "SPOZA PRÓBKI | GDX     | acc=0.5107\n",
      "SPOZA PRÓBKI | GLD     | acc=0.5475\n"
     ]
    }
   ],
   "source": [
    "%time \n",
    "train_test_model(model_bag) "
   ]
  },
  {
   "cell_type": "code",
   "execution_count": null,
   "id": "d433e0fc",
   "metadata": {},
   "outputs": [],
   "source": []
  }
 ],
 "metadata": {
  "kernelspec": {
   "display_name": "Python 3 (ipykernel)",
   "language": "python",
   "name": "python3"
  },
  "language_info": {
   "codemirror_mode": {
    "name": "ipython",
    "version": 3
   },
   "file_extension": ".py",
   "mimetype": "text/x-python",
   "name": "python",
   "nbconvert_exporter": "python",
   "pygments_lexer": "ipython3",
   "version": "3.9.12"
  }
 },
 "nbformat": 4,
 "nbformat_minor": 5
}
