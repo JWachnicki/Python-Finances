{
 "cells": [
  {
   "cell_type": "code",
   "execution_count": 1,
   "id": "01e74da2",
   "metadata": {},
   "outputs": [],
   "source": [
    "import numpy as np\n",
    "import pandas as pd\n",
    "from pylab import plt, mpl \n",
    "plt.style.use('seaborn') \n",
    "mpl.rcParams['savefig.dpi'] = 300 \n",
    "mpl.rcParams['font.family'] = 'serif' \n",
    "pd.set_option(\"display.precision\", 4) \n",
    "np.set_printoptions(suppress=True, precision=4)"
   ]
  },
  {
   "cell_type": "code",
   "execution_count": 2,
   "id": "3617aaaa",
   "metadata": {},
   "outputs": [],
   "source": [
    "url = 'http://hilpisch.com/aiif_eikon_eod_data.csv'"
   ]
  },
  {
   "cell_type": "code",
   "execution_count": 3,
   "id": "c5e257bc",
   "metadata": {},
   "outputs": [],
   "source": [
    "data = pd.read_csv(url, index_col=0, parse_dates=True).dropna() "
   ]
  },
  {
   "cell_type": "code",
   "execution_count": 4,
   "id": "4ec42a3e",
   "metadata": {},
   "outputs": [],
   "source": [
    "def add_lags(data, ric, lags, window=50): \n",
    "    cols = [] \n",
    "    df = pd.DataFrame(data[ric]) \n",
    "    df.dropna(inplace=True) \n",
    "    df['r'] = np.log(df / df.shift()) \n",
    "    df['sma'] = df[ric].rolling(window).mean() \n",
    "    df['min'] = df[ric].rolling(window).min() \n",
    "    df['max'] = df[ric].rolling(window).max() \n",
    "    df['mom'] = df['r'].rolling(window).mean() \n",
    "    df['vol'] = df['r'].rolling(window).std() \n",
    "    df.dropna(inplace=True) \n",
    "    df['d'] = np.where(df['r'] > 0, 1, 0) \n",
    "    features = [ric, 'r', 'd', 'sma', 'min', 'max', 'mom', 'vol'] \n",
    "    for f in features: \n",
    "        for lag in range(1, lags + 1): \n",
    "            col = f'{f}_lag_{lag}' \n",
    "            df[col] = df[f].shift(lag) \n",
    "            cols.append(col) \n",
    "    df.dropna(inplace=True) \n",
    "    return df, cols"
   ]
  },
  {
   "cell_type": "code",
   "execution_count": 5,
   "id": "a3151a8a",
   "metadata": {},
   "outputs": [],
   "source": [
    "lags = 5"
   ]
  },
  {
   "cell_type": "code",
   "execution_count": 6,
   "id": "2a01d0e5",
   "metadata": {},
   "outputs": [],
   "source": [
    "dfs = {} \n",
    "for ric in data: \n",
    "    df, cols = add_lags(data, ric, lags) \n",
    "    dfs[ric] = df.dropna(), cols"
   ]
  },
  {
   "cell_type": "code",
   "execution_count": 13,
   "id": "09627668",
   "metadata": {},
   "outputs": [],
   "source": [
    "from sklearn.neural_network import MLPClassifier\n",
    "from sklearn.metrics import accuracy_score"
   ]
  },
  {
   "cell_type": "code",
   "execution_count": 14,
   "id": "4298d4dd",
   "metadata": {},
   "outputs": [
    {
     "name": "stdout",
     "output_type": "stream",
     "text": [
      "Z PRÓBKI | AAPL.O  | acc=0.5510\n",
      "Z PRÓBKI | MSFT.O  | acc=0.5376\n",
      "Z PRÓBKI | INTC.O  | acc=0.5607\n",
      "Z PRÓBKI | AMZN.O  | acc=0.5559\n",
      "Z PRÓBKI | GS.N    | acc=0.5794\n",
      "Z PRÓBKI | SPY     | acc=0.5729\n",
      "Z PRÓBKI | .SPX    | acc=0.5941\n",
      "Z PRÓBKI | .VIX    | acc=0.6940\n",
      "Z PRÓBKI | EUR=    | acc=0.5766\n",
      "Z PRÓBKI | XAU=    | acc=0.5672\n",
      "Z PRÓBKI | GDX     | acc=0.5847\n",
      "Z PRÓBKI | GLD     | acc=0.5567\n",
      "CPU times: total: 30.6 s\n",
      "Wall time: 5.12 s\n"
     ]
    }
   ],
   "source": [
    "%%time \n",
    "for ric in data: \n",
    "    model = MLPClassifier(hidden_layer_sizes=[512], \n",
    "    random_state=100, \n",
    "    max_iter=1000, \n",
    "    early_stopping=True, \n",
    "    validation_fraction=0.15, \n",
    "    shuffle=False) \n",
    "    df, cols = dfs[ric] \n",
    "    df[cols] = (df[cols] - df[cols].mean()) / df[cols].std() \n",
    "    model.fit(df[cols].values, df['d']) \n",
    "    pred = model.predict(df[cols].values) \n",
    "    acc = accuracy_score(df['d'], pred) \n",
    "    print(f'Z PRÓBKI | {ric:7s} | acc={acc:.4f}')"
   ]
  },
  {
   "cell_type": "code",
   "execution_count": 16,
   "id": "4b447451",
   "metadata": {},
   "outputs": [],
   "source": [
    "def create_model(problem='regression'): \n",
    "    model = Sequential() \n",
    "    model.add(Dense(512, input_dim=len(cols), \n",
    "    activation='relu')) \n",
    "    if problem == 'regression': \n",
    "        model.add(Dense(1, activation='linear')) \n",
    "        model.compile(loss='mse', optimizer='adam') \n",
    "    else: \n",
    "        model.add(Dense(1, activation='sigmoid')) \n",
    "        model.compile(loss='binary_crossentropy', optimizer='adam') \n",
    "    return model "
   ]
  },
  {
   "cell_type": "code",
   "execution_count": 18,
   "id": "04e5eb5e",
   "metadata": {},
   "outputs": [],
   "source": [
    "import tensorflow as tf\n",
    "from keras.layers import Dense\n",
    "from keras.models import Sequential"
   ]
  },
  {
   "cell_type": "code",
   "execution_count": 19,
   "id": "30577879",
   "metadata": {},
   "outputs": [],
   "source": [
    "np.random.seed(100) \n",
    "tf.random.set_seed(100) "
   ]
  },
  {
   "cell_type": "code",
   "execution_count": 20,
   "id": "4d440bf7",
   "metadata": {},
   "outputs": [
    {
     "name": "stdout",
     "output_type": "stream",
     "text": [
      "Z PRÓBKI | AAPL.O  | acc=0.7087\n",
      "Z PRÓBKI | MSFT.O  | acc=0.6896\n",
      "Z PRÓBKI | INTC.O  | acc=0.7030\n",
      "Z PRÓBKI | AMZN.O  | acc=0.6721\n",
      "Z PRÓBKI | GS.N    | acc=0.6932\n",
      "Z PRÓBKI | SPY     | acc=0.6875\n",
      "Z PRÓBKI | .SPX    | acc=0.6875\n",
      "Z PRÓBKI | .VIX    | acc=0.7489\n",
      "Z PRÓBKI | EUR=    | acc=0.6839\n",
      "Z PRÓBKI | XAU=    | acc=0.6912\n",
      "Z PRÓBKI | GDX     | acc=0.6790\n",
      "Z PRÓBKI | GLD     | acc=0.7030\n",
      "CPU times: total: 2min 35s\n",
      "Wall time: 1min 49s\n"
     ]
    }
   ],
   "source": [
    "%%time \n",
    "for ric in data: \n",
    "    model = create_model('classification') \n",
    "    df, cols = dfs[ric] \n",
    "    df[cols] = (df[cols] - df[cols].mean()) / df[cols].std()\n",
    "    model.fit(df[cols], df['d'], epochs=50, verbose=False) \n",
    "    pred = np.where(model.predict(df[cols]) > 0.5, 1, 0) \n",
    "    acc = accuracy_score(df['d'], pred) \n",
    "    print(f'Z PRÓBKI | {ric:7s} | acc={acc:.4f}') "
   ]
  },
  {
   "cell_type": "code",
   "execution_count": 25,
   "id": "9691ad4d",
   "metadata": {},
   "outputs": [],
   "source": [
    "def train_test_model(model): \n",
    "    for ric in data: \n",
    "        df, cols = dfs[ric] \n",
    "        split = int(len(df) * 0.85) \n",
    "        train = df.iloc[:split].copy() \n",
    "        mu, std = train[cols].mean(), train[cols].std() \n",
    "        train[cols] = (train[cols] - mu) / std \n",
    "        model.fit(train[cols].values, train['d']) \n",
    "        test = df.iloc[split:].copy() \n",
    "        test[cols] = (test[cols] - mu) / std \n",
    "        pred = model.predict(test[cols].values) \n",
    "        acc = accuracy_score(test['d'], pred) \n",
    "        print(f'SPOZA PRÓBKI | {ric:7s} | acc={acc:.4f}') "
   ]
  },
  {
   "cell_type": "code",
   "execution_count": 26,
   "id": "771e2a14",
   "metadata": {},
   "outputs": [],
   "source": [
    "model_mlp = MLPClassifier(hidden_layer_sizes=[512], random_state=100, \n",
    "                            max_iter=1000, early_stopping=True, \n",
    "                            validation_fraction=0.15, shuffle=False) "
   ]
  },
  {
   "cell_type": "code",
   "execution_count": 27,
   "id": "e1a62cff",
   "metadata": {},
   "outputs": [
    {
     "name": "stdout",
     "output_type": "stream",
     "text": [
      "CPU times: total: 0 ns\n",
      "Wall time: 0 ns\n",
      "SPOZA PRÓBKI | AAPL.O  | acc=0.4432\n",
      "SPOZA PRÓBKI | MSFT.O  | acc=0.4595\n",
      "SPOZA PRÓBKI | INTC.O  | acc=0.5000\n",
      "SPOZA PRÓBKI | AMZN.O  | acc=0.5270\n",
      "SPOZA PRÓBKI | GS.N    | acc=0.4838\n",
      "SPOZA PRÓBKI | SPY     | acc=0.4811\n",
      "SPOZA PRÓBKI | .SPX    | acc=0.5027\n",
      "SPOZA PRÓBKI | .VIX    | acc=0.5676\n",
      "SPOZA PRÓBKI | EUR=    | acc=0.4649\n",
      "SPOZA PRÓBKI | XAU=    | acc=0.5514\n",
      "SPOZA PRÓBKI | GDX     | acc=0.5162\n",
      "SPOZA PRÓBKI | GLD     | acc=0.4946\n"
     ]
    }
   ],
   "source": [
    "%time \n",
    "train_test_model(model_mlp) "
   ]
  },
  {
   "cell_type": "code",
   "execution_count": 28,
   "id": "161e06c1",
   "metadata": {},
   "outputs": [],
   "source": [
    "from sklearn.ensemble import BaggingClassifier"
   ]
  },
  {
   "cell_type": "code",
   "execution_count": 29,
   "id": "643c4257",
   "metadata": {},
   "outputs": [],
   "source": [
    "base_estimator = MLPClassifier(hidden_layer_sizes=[256], random_state=100, \n",
    "                                 max_iter=1000, early_stopping=True, \n",
    "                                 validation_fraction=0.15, shuffle=False)"
   ]
  },
  {
   "cell_type": "code",
   "execution_count": 30,
   "id": "56cf7608",
   "metadata": {},
   "outputs": [],
   "source": [
    "model_bag = BaggingClassifier(base_estimator=base_estimator, n_estimators=35, \n",
    "                                 max_samples=0.25, max_features=0.5, \n",
    "                                 bootstrap=False, bootstrap_features=True, \n",
    "                                 n_jobs=6, random_state=100)"
   ]
  },
  {
   "cell_type": "code",
   "execution_count": 33,
   "id": "c5ebfc47",
   "metadata": {},
   "outputs": [
    {
     "name": "stdout",
     "output_type": "stream",
     "text": [
      "SPOZA PRÓBKI | AAPL.O  | acc=0.5000\n",
      "SPOZA PRÓBKI | MSFT.O  | acc=0.5703\n",
      "SPOZA PRÓBKI | INTC.O  | acc=0.5054\n",
      "SPOZA PRÓBKI | AMZN.O  | acc=0.5270\n",
      "SPOZA PRÓBKI | GS.N    | acc=0.5135\n",
      "SPOZA PRÓBKI | SPY     | acc=0.5568\n",
      "SPOZA PRÓBKI | .SPX    | acc=0.5514\n",
      "SPOZA PRÓBKI | .VIX    | acc=0.5432\n",
      "SPOZA PRÓBKI | EUR=    | acc=0.5054\n",
      "SPOZA PRÓBKI | XAU=    | acc=0.5351\n",
      "SPOZA PRÓBKI | GDX     | acc=0.5054\n",
      "SPOZA PRÓBKI | GLD     | acc=0.5189\n",
      "CPU times: total: 0 ns\n",
      "Wall time: 0 ns\n"
     ]
    }
   ],
   "source": [
    "train_test_model(model_bag) \n",
    "%time "
   ]
  },
  {
   "cell_type": "code",
   "execution_count": null,
   "id": "eddb6bdc",
   "metadata": {},
   "outputs": [],
   "source": []
  }
 ],
 "metadata": {
  "kernelspec": {
   "display_name": "Python 3 (ipykernel)",
   "language": "python",
   "name": "python3"
  },
  "language_info": {
   "codemirror_mode": {
    "name": "ipython",
    "version": 3
   },
   "file_extension": ".py",
   "mimetype": "text/x-python",
   "name": "python",
   "nbconvert_exporter": "python",
   "pygments_lexer": "ipython3",
   "version": "3.9.12"
  }
 },
 "nbformat": 4,
 "nbformat_minor": 5
}
